{
 "cells": [
  {
   "cell_type": "code",
   "execution_count": 3,
   "metadata": {},
   "outputs": [],
   "source": [
    "def list(bucket):\n",
    "    try:\n",
    "        objects = bucket[1]\n",
    "    except:\n",
    "        print(\"retrying...\")\n",
    "        list(bucket)\n",
    "    else:\n",
    "        return objects"
   ]
  },
  {
   "cell_type": "code",
   "execution_count": 1,
   "metadata": {},
   "outputs": [
    {
     "name": "stdout",
     "output_type": "stream",
     "text": [
      "ajaychandru\n"
     ]
    }
   ],
   "source": [
    "a= \"ajay\"\n",
    "b = \"chandru\"\n",
    "print(f\"{a+b}\")"
   ]
  },
  {
   "cell_type": "code",
   "execution_count": 16,
   "metadata": {},
   "outputs": [
    {
     "name": "stdout",
     "output_type": "stream",
     "text": [
      "success\n"
     ]
    }
   ],
   "source": [
    "a=1\n",
    "b=0\n",
    "if a==1 or b==2:\n",
    "    print('success')"
   ]
  },
  {
   "cell_type": "code",
   "execution_count": 9,
   "metadata": {},
   "outputs": [
    {
     "name": "stdout",
     "output_type": "stream",
     "text": [
      "ajay\n"
     ]
    }
   ],
   "source": [
    "def a():\n",
    "    global aa \n",
    "    aa = \"ajay\"\n",
    "a()\n",
    "def b():\n",
    "    print(aa)\n",
    "b()"
   ]
  },
  {
   "cell_type": "code",
   "execution_count": 15,
   "metadata": {},
   "outputs": [
    {
     "name": "stdout",
     "output_type": "stream",
     "text": [
      "aefqe afaef\n"
     ]
    }
   ],
   "source": [
    "a = \"aefqe\"\n",
    "print(f\"{a} afaef\")    "
   ]
  },
  {
   "cell_type": "code",
   "execution_count": null,
   "metadata": {},
   "outputs": [
    {
     "name": "stdout",
     "output_type": "stream",
     "text": [
      "True\n"
     ]
    }
   ],
   "source": [
    "global a \n",
    "b= 9\n",
    "try:\n",
    "    if b==9:\n",
    "        a =True\n",
    "    else:\n",
    "        a = False\n",
    "except:\n",
    "    print('error')\n",
    "    \n",
    "def z():\n",
    "    if a==True:\n",
    "        print(True)\n",
    "z()"
   ]
  }
 ],
 "metadata": {
  "kernelspec": {
   "display_name": ".venv",
   "language": "python",
   "name": "python3"
  },
  "language_info": {
   "codemirror_mode": {
    "name": "ipython",
    "version": 3
   },
   "file_extension": ".py",
   "mimetype": "text/x-python",
   "name": "python",
   "nbconvert_exporter": "python",
   "pygments_lexer": "ipython3",
   "version": "3.12.7"
  }
 },
 "nbformat": 4,
 "nbformat_minor": 2
}
